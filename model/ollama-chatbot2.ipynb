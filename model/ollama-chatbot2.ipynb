{
 "cells": [
  {
   "cell_type": "code",
   "execution_count": null,
   "id": "0960c567",
   "metadata": {
    "editable": true,
    "slideshow": {
     "slide_type": ""
    },
    "tags": []
   },
   "outputs": [],
   "source": [
    "!pip install langchain langchain-community langchain-core\n",
    "!pip install chromadb\n",
    "!pip install langchain-chroma\n",
    "!pip3 install scikit-learn scipy matplotlib\n",
    "!pip3 install -U sentence-transformers\n",
    "!pip3 install -qU langchain-huggingface"
   ]
  },
  {
   "cell_type": "code",
   "execution_count": 54,
   "id": "a6d99216-dc9b-4ef7-af5d-0240f6d1e11a",
   "metadata": {},
   "outputs": [
    {
     "name": "stdout",
     "output_type": "stream",
     "text": [
      "Collecting gradio\n",
      "  Downloading gradio-5.9.1-py3-none-any.whl.metadata (16 kB)\n",
      "Collecting aiofiles<24.0,>=22.0 (from gradio)\n",
      "  Downloading aiofiles-23.2.1-py3-none-any.whl.metadata (9.7 kB)\n",
      "Requirement already satisfied: anyio<5.0,>=3.0 in c:\\users\\andre\\appdata\\local\\programs\\python\\python310\\lib\\site-packages (from gradio) (4.7.0)\n",
      "Requirement already satisfied: fastapi<1.0,>=0.115.2 in c:\\users\\andre\\appdata\\local\\programs\\python\\python310\\lib\\site-packages (from gradio) (0.115.6)\n",
      "Collecting ffmpy (from gradio)\n",
      "  Downloading ffmpy-0.5.0-py3-none-any.whl.metadata (3.0 kB)\n",
      "Collecting gradio-client==1.5.2 (from gradio)\n",
      "  Downloading gradio_client-1.5.2-py3-none-any.whl.metadata (7.1 kB)\n",
      "Requirement already satisfied: httpx>=0.24.1 in c:\\users\\andre\\appdata\\local\\programs\\python\\python310\\lib\\site-packages (from gradio) (0.28.1)\n",
      "Requirement already satisfied: huggingface-hub>=0.25.1 in c:\\users\\andre\\appdata\\local\\programs\\python\\python310\\lib\\site-packages (from gradio) (0.27.0)\n",
      "Requirement already satisfied: jinja2<4.0 in c:\\users\\andre\\appdata\\local\\programs\\python\\python310\\lib\\site-packages (from gradio) (3.1.5)\n",
      "Collecting markupsafe~=2.0 (from gradio)\n",
      "  Downloading MarkupSafe-2.1.5-cp310-cp310-win_amd64.whl.metadata (3.1 kB)\n",
      "Requirement already satisfied: numpy<3.0,>=1.0 in c:\\users\\andre\\appdata\\local\\programs\\python\\python310\\lib\\site-packages (from gradio) (1.26.4)\n",
      "Requirement already satisfied: orjson~=3.0 in c:\\users\\andre\\appdata\\local\\programs\\python\\python310\\lib\\site-packages (from gradio) (3.10.13)\n",
      "Requirement already satisfied: packaging in c:\\users\\andre\\appdata\\local\\programs\\python\\python310\\lib\\site-packages (from gradio) (24.2)\n",
      "Collecting pandas<3.0,>=1.0 (from gradio)\n",
      "  Downloading pandas-2.2.3-cp310-cp310-win_amd64.whl.metadata (19 kB)\n",
      "Requirement already satisfied: pillow<12.0,>=8.0 in c:\\users\\andre\\appdata\\local\\programs\\python\\python310\\lib\\site-packages (from gradio) (11.1.0)\n",
      "Requirement already satisfied: pydantic>=2.0 in c:\\users\\andre\\appdata\\local\\programs\\python\\python310\\lib\\site-packages (from gradio) (2.10.4)\n",
      "Collecting pydub (from gradio)\n",
      "  Downloading pydub-0.25.1-py2.py3-none-any.whl.metadata (1.4 kB)\n",
      "Collecting python-multipart>=0.0.18 (from gradio)\n",
      "  Downloading python_multipart-0.0.20-py3-none-any.whl.metadata (1.8 kB)\n",
      "Requirement already satisfied: pyyaml<7.0,>=5.0 in c:\\users\\andre\\appdata\\local\\programs\\python\\python310\\lib\\site-packages (from gradio) (6.0.2)\n",
      "Collecting ruff>=0.2.2 (from gradio)\n",
      "  Downloading ruff-0.8.5-py3-none-win_amd64.whl.metadata (25 kB)\n",
      "Collecting safehttpx<0.2.0,>=0.1.6 (from gradio)\n",
      "  Downloading safehttpx-0.1.6-py3-none-any.whl.metadata (4.2 kB)\n",
      "Collecting semantic-version~=2.0 (from gradio)\n",
      "  Downloading semantic_version-2.10.0-py2.py3-none-any.whl.metadata (9.7 kB)\n",
      "Requirement already satisfied: starlette<1.0,>=0.40.0 in c:\\users\\andre\\appdata\\local\\programs\\python\\python310\\lib\\site-packages (from gradio) (0.41.3)\n",
      "Collecting tomlkit<0.14.0,>=0.12.0 (from gradio)\n",
      "  Downloading tomlkit-0.13.2-py3-none-any.whl.metadata (2.7 kB)\n",
      "Requirement already satisfied: typer<1.0,>=0.12 in c:\\users\\andre\\appdata\\local\\programs\\python\\python310\\lib\\site-packages (from gradio) (0.15.1)\n",
      "Requirement already satisfied: typing-extensions~=4.0 in c:\\users\\andre\\appdata\\local\\programs\\python\\python310\\lib\\site-packages (from gradio) (4.12.2)\n",
      "Requirement already satisfied: uvicorn>=0.14.0 in c:\\users\\andre\\appdata\\local\\programs\\python\\python310\\lib\\site-packages (from gradio) (0.34.0)\n",
      "Requirement already satisfied: fsspec in c:\\users\\andre\\appdata\\local\\programs\\python\\python310\\lib\\site-packages (from gradio-client==1.5.2->gradio) (2024.12.0)\n",
      "Requirement already satisfied: websockets<15.0,>=10.0 in c:\\users\\andre\\appdata\\local\\programs\\python\\python310\\lib\\site-packages (from gradio-client==1.5.2->gradio) (14.1)\n",
      "Requirement already satisfied: exceptiongroup>=1.0.2 in c:\\users\\andre\\appdata\\local\\programs\\python\\python310\\lib\\site-packages (from anyio<5.0,>=3.0->gradio) (1.2.2)\n",
      "Requirement already satisfied: idna>=2.8 in c:\\users\\andre\\appdata\\local\\programs\\python\\python310\\lib\\site-packages (from anyio<5.0,>=3.0->gradio) (3.10)\n",
      "Requirement already satisfied: sniffio>=1.1 in c:\\users\\andre\\appdata\\local\\programs\\python\\python310\\lib\\site-packages (from anyio<5.0,>=3.0->gradio) (1.3.1)\n",
      "Requirement already satisfied: certifi in c:\\users\\andre\\appdata\\local\\programs\\python\\python310\\lib\\site-packages (from httpx>=0.24.1->gradio) (2024.12.14)\n",
      "Requirement already satisfied: httpcore==1.* in c:\\users\\andre\\appdata\\local\\programs\\python\\python310\\lib\\site-packages (from httpx>=0.24.1->gradio) (1.0.7)\n",
      "Requirement already satisfied: h11<0.15,>=0.13 in c:\\users\\andre\\appdata\\local\\programs\\python\\python310\\lib\\site-packages (from httpcore==1.*->httpx>=0.24.1->gradio) (0.14.0)\n",
      "Requirement already satisfied: filelock in c:\\users\\andre\\appdata\\local\\programs\\python\\python310\\lib\\site-packages (from huggingface-hub>=0.25.1->gradio) (3.16.1)\n",
      "Requirement already satisfied: requests in c:\\users\\andre\\appdata\\local\\programs\\python\\python310\\lib\\site-packages (from huggingface-hub>=0.25.1->gradio) (2.32.3)\n",
      "Requirement already satisfied: tqdm>=4.42.1 in c:\\users\\andre\\appdata\\local\\programs\\python\\python310\\lib\\site-packages (from huggingface-hub>=0.25.1->gradio) (4.67.1)\n",
      "Requirement already satisfied: python-dateutil>=2.8.2 in c:\\users\\andre\\appdata\\local\\programs\\python\\python310\\lib\\site-packages (from pandas<3.0,>=1.0->gradio) (2.9.0.post0)\n",
      "Collecting pytz>=2020.1 (from pandas<3.0,>=1.0->gradio)\n",
      "  Downloading pytz-2024.2-py2.py3-none-any.whl.metadata (22 kB)\n",
      "Collecting tzdata>=2022.7 (from pandas<3.0,>=1.0->gradio)\n",
      "  Downloading tzdata-2024.2-py2.py3-none-any.whl.metadata (1.4 kB)\n",
      "Requirement already satisfied: annotated-types>=0.6.0 in c:\\users\\andre\\appdata\\local\\programs\\python\\python310\\lib\\site-packages (from pydantic>=2.0->gradio) (0.7.0)\n",
      "Requirement already satisfied: pydantic-core==2.27.2 in c:\\users\\andre\\appdata\\local\\programs\\python\\python310\\lib\\site-packages (from pydantic>=2.0->gradio) (2.27.2)\n",
      "Requirement already satisfied: click>=8.0.0 in c:\\users\\andre\\appdata\\local\\programs\\python\\python310\\lib\\site-packages (from typer<1.0,>=0.12->gradio) (8.1.8)\n",
      "Requirement already satisfied: shellingham>=1.3.0 in c:\\users\\andre\\appdata\\local\\programs\\python\\python310\\lib\\site-packages (from typer<1.0,>=0.12->gradio) (1.5.4)\n",
      "Requirement already satisfied: rich>=10.11.0 in c:\\users\\andre\\appdata\\local\\programs\\python\\python310\\lib\\site-packages (from typer<1.0,>=0.12->gradio) (13.9.4)\n",
      "Requirement already satisfied: colorama in c:\\users\\andre\\appdata\\local\\programs\\python\\python310\\lib\\site-packages (from click>=8.0.0->typer<1.0,>=0.12->gradio) (0.4.6)\n",
      "Requirement already satisfied: six>=1.5 in c:\\users\\andre\\appdata\\local\\programs\\python\\python310\\lib\\site-packages (from python-dateutil>=2.8.2->pandas<3.0,>=1.0->gradio) (1.17.0)\n",
      "Requirement already satisfied: markdown-it-py>=2.2.0 in c:\\users\\andre\\appdata\\local\\programs\\python\\python310\\lib\\site-packages (from rich>=10.11.0->typer<1.0,>=0.12->gradio) (3.0.0)\n",
      "Requirement already satisfied: pygments<3.0.0,>=2.13.0 in c:\\users\\andre\\appdata\\local\\programs\\python\\python310\\lib\\site-packages (from rich>=10.11.0->typer<1.0,>=0.12->gradio) (2.18.0)\n",
      "Requirement already satisfied: charset-normalizer<4,>=2 in c:\\users\\andre\\appdata\\local\\programs\\python\\python310\\lib\\site-packages (from requests->huggingface-hub>=0.25.1->gradio) (3.4.1)\n",
      "Requirement already satisfied: urllib3<3,>=1.21.1 in c:\\users\\andre\\appdata\\local\\programs\\python\\python310\\lib\\site-packages (from requests->huggingface-hub>=0.25.1->gradio) (2.3.0)\n",
      "Requirement already satisfied: mdurl~=0.1 in c:\\users\\andre\\appdata\\local\\programs\\python\\python310\\lib\\site-packages (from markdown-it-py>=2.2.0->rich>=10.11.0->typer<1.0,>=0.12->gradio) (0.1.2)\n",
      "Downloading gradio-5.9.1-py3-none-any.whl (57.2 MB)\n",
      "   ---------------------------------------- 0.0/57.2 MB ? eta -:--:--\n",
      "   ---------------------------------------- 0.5/57.2 MB 4.2 MB/s eta 0:00:14\n",
      "    --------------------------------------- 1.3/57.2 MB 4.0 MB/s eta 0:00:15\n",
      "   - -------------------------------------- 2.1/57.2 MB 4.1 MB/s eta 0:00:14\n",
      "   -- ------------------------------------- 3.1/57.2 MB 4.3 MB/s eta 0:00:13\n",
      "   --- ------------------------------------ 4.5/57.2 MB 4.5 MB/s eta 0:00:12\n",
      "   --- ------------------------------------ 5.5/57.2 MB 4.6 MB/s eta 0:00:12\n",
      "   ---- ----------------------------------- 6.3/57.2 MB 4.5 MB/s eta 0:00:12\n",
      "   ----- ---------------------------------- 7.3/57.2 MB 4.6 MB/s eta 0:00:11\n",
      "   ----- ---------------------------------- 8.4/57.2 MB 4.6 MB/s eta 0:00:11\n",
      "   ------ --------------------------------- 9.4/57.2 MB 4.7 MB/s eta 0:00:11\n",
      "   ------- -------------------------------- 10.5/57.2 MB 4.7 MB/s eta 0:00:10\n",
      "   -------- ------------------------------- 11.5/57.2 MB 4.7 MB/s eta 0:00:10\n",
      "   -------- ------------------------------- 12.6/57.2 MB 4.8 MB/s eta 0:00:10\n",
      "   --------- ------------------------------ 13.9/57.2 MB 4.8 MB/s eta 0:00:09\n",
      "   ---------- ----------------------------- 14.9/57.2 MB 4.9 MB/s eta 0:00:09\n",
      "   ---------- ----------------------------- 15.7/57.2 MB 4.9 MB/s eta 0:00:09\n",
      "   ----------- ---------------------------- 16.3/57.2 MB 4.7 MB/s eta 0:00:09\n",
      "   ------------ --------------------------- 17.3/57.2 MB 4.7 MB/s eta 0:00:09\n",
      "   ------------ --------------------------- 18.4/57.2 MB 4.7 MB/s eta 0:00:09\n",
      "   ------------- -------------------------- 19.4/57.2 MB 4.8 MB/s eta 0:00:08\n",
      "   -------------- ------------------------- 20.4/57.2 MB 4.8 MB/s eta 0:00:08\n",
      "   --------------- ------------------------ 21.8/57.2 MB 4.8 MB/s eta 0:00:08\n",
      "   --------------- ------------------------ 22.5/57.2 MB 4.8 MB/s eta 0:00:08\n",
      "   ---------------- ----------------------- 23.6/57.2 MB 4.8 MB/s eta 0:00:07\n",
      "   ----------------- ---------------------- 24.9/57.2 MB 4.9 MB/s eta 0:00:07\n",
      "   ------------------ --------------------- 26.0/57.2 MB 4.9 MB/s eta 0:00:07\n",
      "   ------------------ --------------------- 27.0/57.2 MB 4.9 MB/s eta 0:00:07\n",
      "   ------------------- -------------------- 28.0/57.2 MB 4.9 MB/s eta 0:00:06\n",
      "   -------------------- ------------------- 29.4/57.2 MB 4.9 MB/s eta 0:00:06\n",
      "   --------------------- ------------------ 30.1/57.2 MB 4.9 MB/s eta 0:00:06\n",
      "   --------------------- ------------------ 31.2/57.2 MB 4.9 MB/s eta 0:00:06\n",
      "   ---------------------- ----------------- 32.5/57.2 MB 4.9 MB/s eta 0:00:05\n",
      "   ----------------------- ---------------- 33.3/57.2 MB 5.0 MB/s eta 0:00:05\n",
      "   ------------------------ --------------- 34.6/57.2 MB 5.0 MB/s eta 0:00:05\n",
      "   ------------------------ --------------- 35.7/57.2 MB 5.0 MB/s eta 0:00:05\n",
      "   ------------------------- -------------- 37.0/57.2 MB 5.0 MB/s eta 0:00:05\n",
      "   -------------------------- ------------- 37.7/57.2 MB 5.0 MB/s eta 0:00:04\n",
      "   --------------------------- ------------ 39.1/57.2 MB 5.0 MB/s eta 0:00:04\n",
      "   ---------------------------- ----------- 40.1/57.2 MB 5.0 MB/s eta 0:00:04\n",
      "   ---------------------------- ----------- 41.4/57.2 MB 5.0 MB/s eta 0:00:04\n",
      "   ----------------------------- ---------- 42.5/57.2 MB 5.0 MB/s eta 0:00:03\n",
      "   ------------------------------ --------- 43.8/57.2 MB 5.1 MB/s eta 0:00:03\n",
      "   ------------------------------- -------- 44.8/57.2 MB 5.1 MB/s eta 0:00:03\n",
      "   -------------------------------- ------- 46.1/57.2 MB 5.1 MB/s eta 0:00:03\n",
      "   -------------------------------- ------- 47.2/57.2 MB 5.1 MB/s eta 0:00:02\n",
      "   --------------------------------- ------ 48.5/57.2 MB 5.1 MB/s eta 0:00:02\n",
      "   ---------------------------------- ----- 49.5/57.2 MB 5.1 MB/s eta 0:00:02\n",
      "   ----------------------------------- ---- 50.9/57.2 MB 5.1 MB/s eta 0:00:02\n",
      "   ------------------------------------ --- 51.9/57.2 MB 5.1 MB/s eta 0:00:02\n",
      "   ------------------------------------- -- 53.0/57.2 MB 5.1 MB/s eta 0:00:01\n",
      "   ------------------------------------- -- 54.0/57.2 MB 5.1 MB/s eta 0:00:01\n",
      "   -------------------------------------- - 55.1/57.2 MB 5.1 MB/s eta 0:00:01\n",
      "   ---------------------------------------  56.4/57.2 MB 5.1 MB/s eta 0:00:01\n",
      "   ---------------------------------------  57.1/57.2 MB 5.1 MB/s eta 0:00:01\n",
      "   ---------------------------------------- 57.2/57.2 MB 5.1 MB/s eta 0:00:00\n",
      "Downloading gradio_client-1.5.2-py3-none-any.whl (320 kB)\n",
      "Downloading aiofiles-23.2.1-py3-none-any.whl (15 kB)\n",
      "Downloading MarkupSafe-2.1.5-cp310-cp310-win_amd64.whl (17 kB)\n",
      "Downloading pandas-2.2.3-cp310-cp310-win_amd64.whl (11.6 MB)\n",
      "   ---------------------------------------- 0.0/11.6 MB ? eta -:--:--\n",
      "   --- ------------------------------------ 1.0/11.6 MB 6.3 MB/s eta 0:00:02\n",
      "   -------- ------------------------------- 2.4/11.6 MB 5.8 MB/s eta 0:00:02\n",
      "   ----------- ---------------------------- 3.4/11.6 MB 5.6 MB/s eta 0:00:02\n",
      "   --------------- ------------------------ 4.5/11.6 MB 5.5 MB/s eta 0:00:02\n",
      "   ------------------ --------------------- 5.5/11.6 MB 5.5 MB/s eta 0:00:02\n",
      "   ----------------------- ---------------- 6.8/11.6 MB 5.4 MB/s eta 0:00:01\n",
      "   --------------------------- ------------ 7.9/11.6 MB 5.5 MB/s eta 0:00:01\n",
      "   ------------------------------- -------- 9.2/11.6 MB 5.4 MB/s eta 0:00:01\n",
      "   ----------------------------------- ---- 10.2/11.6 MB 5.4 MB/s eta 0:00:01\n",
      "   -------------------------------------- - 11.3/11.6 MB 5.4 MB/s eta 0:00:01\n",
      "   ---------------------------------------- 11.6/11.6 MB 5.3 MB/s eta 0:00:00\n",
      "Downloading python_multipart-0.0.20-py3-none-any.whl (24 kB)\n",
      "Downloading ruff-0.8.5-py3-none-win_amd64.whl (9.7 MB)\n",
      "   ---------------------------------------- 0.0/9.7 MB ? eta -:--:--\n",
      "   --- ------------------------------------ 0.8/9.7 MB 4.2 MB/s eta 0:00:03\n",
      "   ------- -------------------------------- 1.8/9.7 MB 5.0 MB/s eta 0:00:02\n",
      "   ------------ --------------------------- 3.1/9.7 MB 5.3 MB/s eta 0:00:02\n",
      "   ----------------- ---------------------- 4.2/9.7 MB 5.2 MB/s eta 0:00:02\n",
      "   ---------------------- ----------------- 5.5/9.7 MB 5.3 MB/s eta 0:00:01\n",
      "   ---------------------------- ----------- 6.8/9.7 MB 5.4 MB/s eta 0:00:01\n",
      "   -------------------------------- ------- 7.9/9.7 MB 5.3 MB/s eta 0:00:01\n",
      "   ------------------------------------ --- 8.9/9.7 MB 5.4 MB/s eta 0:00:01\n",
      "   ---------------------------------------- 9.7/9.7 MB 5.3 MB/s eta 0:00:00\n",
      "Downloading safehttpx-0.1.6-py3-none-any.whl (8.7 kB)\n",
      "Using cached semantic_version-2.10.0-py2.py3-none-any.whl (15 kB)\n",
      "Downloading tomlkit-0.13.2-py3-none-any.whl (37 kB)\n",
      "Downloading ffmpy-0.5.0-py3-none-any.whl (6.0 kB)\n",
      "Downloading pydub-0.25.1-py2.py3-none-any.whl (32 kB)\n",
      "Downloading pytz-2024.2-py2.py3-none-any.whl (508 kB)\n",
      "Downloading tzdata-2024.2-py2.py3-none-any.whl (346 kB)\n",
      "Installing collected packages: pytz, pydub, tzdata, tomlkit, semantic-version, ruff, python-multipart, markupsafe, ffmpy, aiofiles, pandas, safehttpx, gradio-client, gradio\n",
      "  Attempting uninstall: markupsafe\n",
      "    Found existing installation: MarkupSafe 3.0.2\n",
      "    Uninstalling MarkupSafe-3.0.2:\n",
      "      Successfully uninstalled MarkupSafe-3.0.2\n",
      "Successfully installed aiofiles-23.2.1 ffmpy-0.5.0 gradio-5.9.1 gradio-client-1.5.2 markupsafe-2.1.5 pandas-2.2.3 pydub-0.25.1 python-multipart-0.0.20 pytz-2024.2 ruff-0.8.5 safehttpx-0.1.6 semantic-version-2.10.0 tomlkit-0.13.2 tzdata-2024.2\n"
     ]
    },
    {
     "name": "stderr",
     "output_type": "stream",
     "text": [
      "  WARNING: Failed to remove contents in a temporary directory 'C:\\Users\\andre\\AppData\\Local\\Programs\\Python\\Python310\\Lib\\site-packages\\~arkupsafe'.\n",
      "  You can safely remove it manually.\n"
     ]
    }
   ],
   "source": [
    "!pip3 install gradio"
   ]
  },
  {
   "cell_type": "code",
   "execution_count": 44,
   "id": "f9bc93b5-d214-43ee-97a6-f3b54efb6157",
   "metadata": {},
   "outputs": [],
   "source": [
    "from langchain_community.chat_models import ChatOllama\n",
    "from langchain_core.runnables import RunnablePassthrough\n",
    "from langchain_core.output_parsers import StrOutputParser\n",
    "from langchain_core.prompts import ChatPromptTemplate\n"
   ]
  },
  {
   "cell_type": "code",
   "execution_count": 22,
   "id": "06a92de0",
   "metadata": {},
   "outputs": [],
   "source": [
    "from langchain_chroma import Chroma\n",
    "# from llama_index.embeddings.huggingface import HuggingFaceEmbedding"
   ]
  },
  {
   "cell_type": "code",
   "execution_count": 31,
   "id": "31620b8d",
   "metadata": {},
   "outputs": [],
   "source": [
    "import chromadb\n",
    "from chromadb.utils import embedding_functions\n",
    "from sentence_transformers import SentenceTransformer\n",
    "default_ef = embedding_functions.DefaultEmbeddingFunction()\n",
    "client = chromadb.PersistentClient(path='./chroma_db')\n",
    "collection = client.get_collection(name=\"langchain\",embedding_function=default_ef)"
   ]
  },
  {
   "cell_type": "code",
   "execution_count": null,
   "id": "afba0684-8491-4ee0-af86-1f39f48a5acc",
   "metadata": {},
   "outputs": [],
   "source": [
    "from langchain_community.vectorstores import Chroma"
   ]
  },
  {
   "cell_type": "code",
   "execution_count": 38,
   "id": "76224650",
   "metadata": {},
   "outputs": [],
   "source": [
    "# from sklearn.decomposition import PCA\n",
    "# import numpy as np\n",
    "\n",
    "# def transform_embeddings(embeddings, target_dim):\n",
    "#     pca = PCA(n_components=target_dim)\n",
    "#     transformed_embeddings = pca.fit_transform(embeddings)\n",
    "#     return transformed_embeddings\n",
    "from langchain_huggingface import HuggingFaceEmbeddings\n",
    "embeddings = HuggingFaceEmbeddings(model_name=\"all-MiniLM-L6-v2\")\n",
    "\n",
    "chroma_db = Chroma(client=client, collection_name=\"langchain\",embedding_function=embeddings) "
   ]
  },
  {
   "cell_type": "code",
   "execution_count": 39,
   "id": "081598af-4e80-43e3-9f59-9d8710211ff9",
   "metadata": {},
   "outputs": [],
   "source": [
    "retriever = chroma_db.as_retriever()"
   ]
  },
  {
   "cell_type": "code",
   "execution_count": null,
   "id": "3b19bd88-4481-4bb4-a766-c95318b4033b",
   "metadata": {},
   "outputs": [],
   "source": [
    "retriever.get_relevant_documents(\"what is effusion\")"
   ]
  },
  {
   "cell_type": "code",
   "execution_count": 45,
   "id": "fdeb4f8e-7cf9-48bf-8239-a3b32841803e",
   "metadata": {},
   "outputs": [
    {
     "name": "stderr",
     "output_type": "stream",
     "text": [
      "C:\\Users\\andre\\AppData\\Local\\Temp\\ipykernel_15992\\2362477809.py:1: LangChainDeprecationWarning: The class `ChatOllama` was deprecated in LangChain 0.3.1 and will be removed in 1.0.0. An updated version of the class exists in the :class:`~langchain-ollama package and should be used instead. To use it run `pip install -U :class:`~langchain-ollama` and import as `from :class:`~langchain_ollama import ChatOllama``.\n",
      "  model_local = ChatOllama(model=\"llama3.2\")\n"
     ]
    }
   ],
   "source": [
    "model_local = ChatOllama(model=\"llama3.2\")"
   ]
  },
  {
   "cell_type": "code",
   "execution_count": 60,
   "id": "3d3d3808",
   "metadata": {},
   "outputs": [
    {
     "name": "stdout",
     "output_type": "stream",
     "text": [
      "\n",
      "########\n",
      "After RAG\n",
      "\n",
      "Unfortunately, the provided text does not mention \"Hot Wheels\" at all. It appears to be a passage about yoga. If you could provide more context or information about where you encountered the term \"Hot Wheels\", I'd be happy to try and help you find an answer!\n"
     ]
    }
   ],
   "source": [
    "print(\"\\n########\\nAfter RAG\\n\")\n",
    "after_rag_template = \"\"\"You are a Medical Chatbot answering questions strictly related to chest diseases. Do not provide any consultation. Give answers only for medical queries. Answer the question based only on the following context:\n",
    "{context}\n",
    "Question: {question}\n",
    "\"\"\"\n",
    "after_rag_prompt = ChatPromptTemplate.from_template(after_rag_template)\n",
    "after_rag_chain = (\n",
    "    {\"context\": retriever, \"question\": RunnablePassthrough()}\n",
    "    | after_rag_prompt\n",
    "    | model_local\n",
    "    | StrOutputParser()\n",
    ")\n",
    "print(after_rag_chain.invoke(\"what is hotwheels?\"))"
   ]
  },
  {
   "cell_type": "code",
   "execution_count": 58,
   "id": "28915691",
   "metadata": {},
   "outputs": [
    {
     "name": "stdout",
     "output_type": "stream",
     "text": [
      "* Running on local URL:  http://127.0.0.1:7863\n",
      "\n",
      "To create a public link, set `share=True` in `launch()`.\n"
     ]
    },
    {
     "data": {
      "text/html": [
       "<div><iframe src=\"http://127.0.0.1:7863/\" width=\"100%\" height=\"500\" allow=\"autoplay; camera; microphone; clipboard-read; clipboard-write;\" frameborder=\"0\" allowfullscreen></iframe></div>"
      ],
      "text/plain": [
       "<IPython.core.display.HTML object>"
      ]
     },
     "metadata": {},
     "output_type": "display_data"
    },
    {
     "data": {
      "text/plain": []
     },
     "execution_count": 58,
     "metadata": {},
     "output_type": "execute_result"
    }
   ],
   "source": [
    "import gradio as gr\n",
    "from langchain_community.vectorstores import Chroma\n",
    "from langchain_community import embeddings\n",
    "from langchain_community.chat_models import ChatOllama\n",
    "from langchain_core.runnables import RunnablePassthrough\n",
    "from langchain_core.output_parsers import StrOutputParser\n",
    "from langchain_core.prompts import ChatPromptTemplate\n",
    "from langchain.output_parsers import PydanticOutputParser\n",
    "from langchain.text_splitter import CharacterTextSplitter\n",
    "\n",
    "def process_input(question):\n",
    "    model_local = ChatOllama(model=\"llama3.2\")\n",
    "    \n",
    "    # Convert string of URLs to list\n",
    "    # urls_list = urls.split(\"\\n\")\n",
    "    # docs = [WebBaseLoader(url).load() for url in urls_list]\n",
    "    # docs_list = [item for sublist in docs for item in sublist]\n",
    "    \n",
    "    # text_splitter = CharacterTextSplitter.from_tiktoken_encoder(chunk_size=7500, chunk_overlap=100)\n",
    "    # doc_splits = text_splitter.split_documents(docs_list)\n",
    "\n",
    "    # vectorstore = Chroma.from_documents(\n",
    "    #     documents=doc_splits,\n",
    "    #     collection_name=\"rag-chroma\",\n",
    "    #     embedding=embeddings.ollama.OllamaEmbeddings(model='nomic-embed-text'),\n",
    "    # )\n",
    "    # retriever = vectorstore.as_retriever()\n",
    "\n",
    "    after_rag_template = \"\"\"You are a Medical Chatbot answering questions strictly related to chest diseases. Do not provide any consultation. Do not mention the text from where the answer is generated. Answer the question based only on the following context:\n",
    "    {context}\n",
    "    Question: {question}\n",
    "    \"\"\"\n",
    "    after_rag_prompt = ChatPromptTemplate.from_template(after_rag_template)\n",
    "    after_rag_chain = (\n",
    "        {\"context\": retriever, \"question\": RunnablePassthrough()}\n",
    "        | after_rag_prompt\n",
    "        | model_local\n",
    "        | StrOutputParser()\n",
    "    )\n",
    "    return after_rag_chain.invoke(question)\n",
    "\n",
    "# Define Gradio interface\n",
    "iface = gr.Interface(fn=process_input,\n",
    "                     inputs=[gr.Textbox(label=\"Enter query\")],\n",
    "                     outputs=\"text\",\n",
    "                     title=\"Document Query with Ollama\",\n",
    "                     description=\"enter question to query document.\")\n",
    "iface.launch()"
   ]
  },
  {
   "cell_type": "code",
   "execution_count": null,
   "id": "081e7a35-42a5-40b5-85ff-1e7b8e40db99",
   "metadata": {},
   "outputs": [],
   "source": []
  }
 ],
 "metadata": {
  "kernelspec": {
   "display_name": "Python 3 (ipykernel)",
   "language": "python",
   "name": "python3"
  },
  "language_info": {
   "codemirror_mode": {
    "name": "ipython",
    "version": 3
   },
   "file_extension": ".py",
   "mimetype": "text/x-python",
   "name": "python",
   "nbconvert_exporter": "python",
   "pygments_lexer": "ipython3",
   "version": "3.10.0"
  }
 },
 "nbformat": 4,
 "nbformat_minor": 5
}
