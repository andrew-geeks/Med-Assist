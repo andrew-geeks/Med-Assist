{
 "cells": [
  {
   "cell_type": "code",
   "execution_count": 1,
   "id": "fa2bd186-dade-4469-97b3-bcae02c0419d",
   "metadata": {},
   "outputs": [],
   "source": [
    "from langchain_community.chat_models import ChatOllama\n",
    "from langchain_core.runnables import RunnablePassthrough\n",
    "from langchain_core.output_parsers import StrOutputParser\n",
    "from langchain_core.prompts import ChatPromptTemplate"
   ]
  },
  {
   "cell_type": "code",
   "execution_count": 5,
   "id": "01044c9b-57f2-4b88-b978-ca478e92aaaf",
   "metadata": {},
   "outputs": [],
   "source": [
    "from langchain_chroma import Chroma\n",
    "import chromadb\n",
    "from chromadb.utils import embedding_functions\n",
    "from sentence_transformers import SentenceTransformer\n",
    "from langchain_huggingface import HuggingFaceEmbeddings"
   ]
  },
  {
   "cell_type": "code",
   "execution_count": 6,
   "id": "c6e30313-0094-4038-b9ad-5094e7825475",
   "metadata": {},
   "outputs": [],
   "source": [
    "client = chromadb.PersistentClient(path='./chroma_db')\n",
    "embeddings = HuggingFaceEmbeddings(model_name=\"all-MiniLM-L6-v2\")\n",
    "chroma_db = Chroma(client=client, collection_name=\"langchain\",embedding_function=embeddings) "
   ]
  },
  {
   "cell_type": "code",
   "execution_count": 7,
   "id": "23516e41-15ba-45d3-aafd-700616c59c05",
   "metadata": {},
   "outputs": [],
   "source": [
    "retriever = chroma_db.as_retriever()"
   ]
  },
  {
   "cell_type": "code",
   "execution_count": 8,
   "id": "84994bc0-59f5-4f6e-88b1-8991a50f2549",
   "metadata": {},
   "outputs": [
    {
     "name": "stderr",
     "output_type": "stream",
     "text": [
      "C:\\Users\\andre\\AppData\\Local\\Temp\\ipykernel_22936\\2362477809.py:1: LangChainDeprecationWarning: The class `ChatOllama` was deprecated in LangChain 0.3.1 and will be removed in 1.0.0. An updated version of the class exists in the :class:`~langchain-ollama package and should be used instead. To use it run `pip install -U :class:`~langchain-ollama` and import as `from :class:`~langchain_ollama import ChatOllama``.\n",
      "  model_local = ChatOllama(model=\"llama3.2\")\n"
     ]
    }
   ],
   "source": [
    "model_local = ChatOllama(model=\"llama3.2\")"
   ]
  },
  {
   "cell_type": "code",
   "execution_count": 14,
   "id": "0f18d2e7-db3e-4736-8348-8b20a4dfc042",
   "metadata": {},
   "outputs": [
    {
     "name": "stdout",
     "output_type": "stream",
     "text": [
      "Tuberculosis (TB) is a bacterial infection primarily affecting the lungs. Symptoms include cough, fever, and fatigue. TB can be treated with antibiotics, but resistance and relapse are concerns. Vaccination and early detection help prevent transmission.\n"
     ]
    }
   ],
   "source": [
    "# print(\"\\n########\\nAfter RAG\\n\")\n",
    "after_rag_template = \"\"\"You are a Medical Chatbot answering questions strictly related to chest diseases. Do not provide any consultation. Give answers only for medical queries. Answer the question based only on the following context:\n",
    "{context}\n",
    "Question: {question}\n",
    "\"\"\"\n",
    "after_rag_prompt = ChatPromptTemplate.from_template(after_rag_template)\n",
    "after_rag_chain = (\n",
    "    {\"context\": retriever, \"question\": RunnablePassthrough()}\n",
    "    | after_rag_prompt\n",
    "    | model_local\n",
    "    | StrOutputParser()\n",
    ")\n",
    "print(after_rag_chain.invoke(\"tell me more about tuberculosis in 35 words?\"))"
   ]
  },
  {
   "cell_type": "markdown",
   "id": "41415c26-de2e-4c95-b77e-b51981e9885c",
   "metadata": {},
   "source": [
    "## Saving to pickle"
   ]
  },
  {
   "cell_type": "code",
   "execution_count": 13,
   "id": "64248842-94f7-4e74-9846-b71dd8462e0e",
   "metadata": {},
   "outputs": [],
   "source": [
    "import pickle"
   ]
  },
  {
   "cell_type": "code",
   "execution_count": 15,
   "id": "430c7560-8699-46d9-bbef-d4032f1f8b1f",
   "metadata": {},
   "outputs": [],
   "source": [
    "with open(\"embedding.pkl\", \"wb\") as f:\n",
    "    pickle.dump(embeddings, f)"
   ]
  },
  {
   "cell_type": "code",
   "execution_count": 21,
   "id": "7dad0424-ad36-49f5-ae3d-25fc2b2bda31",
   "metadata": {},
   "outputs": [],
   "source": [
    "with open(\"embedding.pkl\", \"rb\") as f:\n",
    "    loaded_embeddings = pickle.load(f)\n",
    "# loaded_embeddings.embed_query(\"what is effusion\")"
   ]
  },
  {
   "cell_type": "code",
   "execution_count": 18,
   "id": "d4084b54-7028-47eb-9d54-b6189a031df9",
   "metadata": {},
   "outputs": [
    {
     "ename": "NameError",
     "evalue": "name 'loaded_embeddings' is not defined",
     "output_type": "error",
     "traceback": [
      "\u001b[1;31m---------------------------------------------------------------------------\u001b[0m",
      "\u001b[1;31mNameError\u001b[0m                                 Traceback (most recent call last)",
      "Cell \u001b[1;32mIn[18], line 1\u001b[0m\n\u001b[1;32m----> 1\u001b[0m \u001b[43mloaded_embeddings\u001b[49m\n",
      "\u001b[1;31mNameError\u001b[0m: name 'loaded_embeddings' is not defined"
     ]
    }
   ],
   "source": []
  },
  {
   "cell_type": "code",
   "execution_count": null,
   "id": "c7fae9a3-c519-4cc2-8000-d068f53c0e5c",
   "metadata": {},
   "outputs": [],
   "source": []
  }
 ],
 "metadata": {
  "kernelspec": {
   "display_name": "Python 3 (ipykernel)",
   "language": "python",
   "name": "python3"
  },
  "language_info": {
   "codemirror_mode": {
    "name": "ipython",
    "version": 3
   },
   "file_extension": ".py",
   "mimetype": "text/x-python",
   "name": "python",
   "nbconvert_exporter": "python",
   "pygments_lexer": "ipython3",
   "version": "3.10.0"
  }
 },
 "nbformat": 4,
 "nbformat_minor": 5
}
