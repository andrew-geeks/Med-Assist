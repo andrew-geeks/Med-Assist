{
 "cells": [
  {
   "cell_type": "code",
   "execution_count": 1,
   "id": "047ebb7f-a575-42ab-97b1-0ab85ebb8698",
   "metadata": {},
   "outputs": [
    {
     "name": "stdout",
     "output_type": "stream",
     "text": [
      "Collecting faiss-cpu\n",
      "  Downloading faiss_cpu-1.9.0.post1-cp310-cp310-win_amd64.whl.metadata (4.5 kB)\n",
      "Requirement already satisfied: langchain-huggingface in c:\\users\\andre\\appdata\\local\\programs\\python\\python310\\lib\\site-packages (0.1.2)\n",
      "Collecting pymupdf\n",
      "  Downloading pymupdf-1.25.1-cp39-abi3-win_amd64.whl.metadata (3.4 kB)\n",
      "Collecting tiktoken\n",
      "  Downloading tiktoken-0.8.0-cp310-cp310-win_amd64.whl.metadata (6.8 kB)\n",
      "Requirement already satisfied: langchain-ollama in c:\\users\\andre\\appdata\\local\\programs\\python\\python310\\lib\\site-packages (0.2.2)\n",
      "Requirement already satisfied: python-dotenv in c:\\users\\andre\\appdata\\local\\programs\\python\\python310\\lib\\site-packages (1.0.1)\n",
      "Requirement already satisfied: numpy<3.0,>=1.25.0 in c:\\users\\andre\\appdata\\local\\programs\\python\\python310\\lib\\site-packages (from faiss-cpu) (1.26.4)\n",
      "Requirement already satisfied: packaging in c:\\users\\andre\\appdata\\local\\programs\\python\\python310\\lib\\site-packages (from faiss-cpu) (24.2)\n",
      "Requirement already satisfied: huggingface-hub>=0.23.0 in c:\\users\\andre\\appdata\\local\\programs\\python\\python310\\lib\\site-packages (from langchain-huggingface) (0.27.0)\n",
      "Requirement already satisfied: langchain-core<0.4.0,>=0.3.15 in c:\\users\\andre\\appdata\\local\\programs\\python\\python310\\lib\\site-packages (from langchain-huggingface) (0.3.29)\n",
      "Requirement already satisfied: sentence-transformers>=2.6.0 in c:\\users\\andre\\appdata\\local\\programs\\python\\python310\\lib\\site-packages (from langchain-huggingface) (3.3.1)\n",
      "Requirement already satisfied: tokenizers>=0.19.1 in c:\\users\\andre\\appdata\\local\\programs\\python\\python310\\lib\\site-packages (from langchain-huggingface) (0.20.3)\n",
      "Requirement already satisfied: transformers>=4.39.0 in c:\\users\\andre\\appdata\\local\\programs\\python\\python310\\lib\\site-packages (from langchain-huggingface) (4.46.3)\n",
      "Requirement already satisfied: regex>=2022.1.18 in c:\\users\\andre\\appdata\\local\\programs\\python\\python310\\lib\\site-packages (from tiktoken) (2024.11.6)\n",
      "Requirement already satisfied: requests>=2.26.0 in c:\\users\\andre\\appdata\\local\\programs\\python\\python310\\lib\\site-packages (from tiktoken) (2.32.3)\n",
      "Requirement already satisfied: ollama<1,>=0.4.4 in c:\\users\\andre\\appdata\\local\\programs\\python\\python310\\lib\\site-packages (from langchain-ollama) (0.4.5)\n",
      "Requirement already satisfied: filelock in c:\\users\\andre\\appdata\\local\\programs\\python\\python310\\lib\\site-packages (from huggingface-hub>=0.23.0->langchain-huggingface) (3.16.1)\n",
      "Requirement already satisfied: fsspec>=2023.5.0 in c:\\users\\andre\\appdata\\local\\programs\\python\\python310\\lib\\site-packages (from huggingface-hub>=0.23.0->langchain-huggingface) (2024.12.0)\n",
      "Requirement already satisfied: pyyaml>=5.1 in c:\\users\\andre\\appdata\\local\\programs\\python\\python310\\lib\\site-packages (from huggingface-hub>=0.23.0->langchain-huggingface) (6.0.2)\n",
      "Requirement already satisfied: tqdm>=4.42.1 in c:\\users\\andre\\appdata\\local\\programs\\python\\python310\\lib\\site-packages (from huggingface-hub>=0.23.0->langchain-huggingface) (4.67.1)\n",
      "Requirement already satisfied: typing-extensions>=3.7.4.3 in c:\\users\\andre\\appdata\\local\\programs\\python\\python310\\lib\\site-packages (from huggingface-hub>=0.23.0->langchain-huggingface) (4.12.2)\n",
      "Requirement already satisfied: jsonpatch<2.0,>=1.33 in c:\\users\\andre\\appdata\\local\\programs\\python\\python310\\lib\\site-packages (from langchain-core<0.4.0,>=0.3.15->langchain-huggingface) (1.33)\n",
      "Requirement already satisfied: langsmith<0.3,>=0.1.125 in c:\\users\\andre\\appdata\\local\\programs\\python\\python310\\lib\\site-packages (from langchain-core<0.4.0,>=0.3.15->langchain-huggingface) (0.2.10)\n",
      "Requirement already satisfied: pydantic<3.0.0,>=2.5.2 in c:\\users\\andre\\appdata\\local\\programs\\python\\python310\\lib\\site-packages (from langchain-core<0.4.0,>=0.3.15->langchain-huggingface) (2.10.4)\n",
      "Requirement already satisfied: tenacity!=8.4.0,<10.0.0,>=8.1.0 in c:\\users\\andre\\appdata\\local\\programs\\python\\python310\\lib\\site-packages (from langchain-core<0.4.0,>=0.3.15->langchain-huggingface) (9.0.0)\n",
      "Requirement already satisfied: httpx<0.28.0,>=0.27.0 in c:\\users\\andre\\appdata\\local\\programs\\python\\python310\\lib\\site-packages (from ollama<1,>=0.4.4->langchain-ollama) (0.27.2)\n",
      "Requirement already satisfied: charset-normalizer<4,>=2 in c:\\users\\andre\\appdata\\local\\programs\\python\\python310\\lib\\site-packages (from requests>=2.26.0->tiktoken) (3.4.1)\n",
      "Requirement already satisfied: idna<4,>=2.5 in c:\\users\\andre\\appdata\\local\\programs\\python\\python310\\lib\\site-packages (from requests>=2.26.0->tiktoken) (3.10)\n",
      "Requirement already satisfied: urllib3<3,>=1.21.1 in c:\\users\\andre\\appdata\\local\\programs\\python\\python310\\lib\\site-packages (from requests>=2.26.0->tiktoken) (2.3.0)\n",
      "Requirement already satisfied: certifi>=2017.4.17 in c:\\users\\andre\\appdata\\local\\programs\\python\\python310\\lib\\site-packages (from requests>=2.26.0->tiktoken) (2024.12.14)\n",
      "Requirement already satisfied: torch>=1.11.0 in c:\\users\\andre\\appdata\\local\\programs\\python\\python310\\lib\\site-packages (from sentence-transformers>=2.6.0->langchain-huggingface) (2.5.1)\n",
      "Requirement already satisfied: scikit-learn in c:\\users\\andre\\appdata\\local\\programs\\python\\python310\\lib\\site-packages (from sentence-transformers>=2.6.0->langchain-huggingface) (1.6.0)\n",
      "Requirement already satisfied: scipy in c:\\users\\andre\\appdata\\local\\programs\\python\\python310\\lib\\site-packages (from sentence-transformers>=2.6.0->langchain-huggingface) (1.15.0)\n",
      "Requirement already satisfied: Pillow in c:\\users\\andre\\appdata\\local\\programs\\python\\python310\\lib\\site-packages (from sentence-transformers>=2.6.0->langchain-huggingface) (11.1.0)\n",
      "Requirement already satisfied: safetensors>=0.4.1 in c:\\users\\andre\\appdata\\local\\programs\\python\\python310\\lib\\site-packages (from transformers>=4.39.0->langchain-huggingface) (0.5.0)\n",
      "Requirement already satisfied: anyio in c:\\users\\andre\\appdata\\local\\programs\\python\\python310\\lib\\site-packages (from httpx<0.28.0,>=0.27.0->ollama<1,>=0.4.4->langchain-ollama) (4.7.0)\n",
      "Requirement already satisfied: httpcore==1.* in c:\\users\\andre\\appdata\\local\\programs\\python\\python310\\lib\\site-packages (from httpx<0.28.0,>=0.27.0->ollama<1,>=0.4.4->langchain-ollama) (1.0.7)\n",
      "Requirement already satisfied: sniffio in c:\\users\\andre\\appdata\\local\\programs\\python\\python310\\lib\\site-packages (from httpx<0.28.0,>=0.27.0->ollama<1,>=0.4.4->langchain-ollama) (1.3.1)\n",
      "Requirement already satisfied: h11<0.15,>=0.13 in c:\\users\\andre\\appdata\\local\\programs\\python\\python310\\lib\\site-packages (from httpcore==1.*->httpx<0.28.0,>=0.27.0->ollama<1,>=0.4.4->langchain-ollama) (0.14.0)\n",
      "Requirement already satisfied: jsonpointer>=1.9 in c:\\users\\andre\\appdata\\local\\programs\\python\\python310\\lib\\site-packages (from jsonpatch<2.0,>=1.33->langchain-core<0.4.0,>=0.3.15->langchain-huggingface) (3.0.0)\n",
      "Requirement already satisfied: orjson<4.0.0,>=3.9.14 in c:\\users\\andre\\appdata\\local\\programs\\python\\python310\\lib\\site-packages (from langsmith<0.3,>=0.1.125->langchain-core<0.4.0,>=0.3.15->langchain-huggingface) (3.10.13)\n",
      "Requirement already satisfied: requests-toolbelt<2.0.0,>=1.0.0 in c:\\users\\andre\\appdata\\local\\programs\\python\\python310\\lib\\site-packages (from langsmith<0.3,>=0.1.125->langchain-core<0.4.0,>=0.3.15->langchain-huggingface) (1.0.0)\n",
      "Requirement already satisfied: annotated-types>=0.6.0 in c:\\users\\andre\\appdata\\local\\programs\\python\\python310\\lib\\site-packages (from pydantic<3.0.0,>=2.5.2->langchain-core<0.4.0,>=0.3.15->langchain-huggingface) (0.7.0)\n",
      "Requirement already satisfied: pydantic-core==2.27.2 in c:\\users\\andre\\appdata\\local\\programs\\python\\python310\\lib\\site-packages (from pydantic<3.0.0,>=2.5.2->langchain-core<0.4.0,>=0.3.15->langchain-huggingface) (2.27.2)\n",
      "Requirement already satisfied: networkx in c:\\users\\andre\\appdata\\local\\programs\\python\\python310\\lib\\site-packages (from torch>=1.11.0->sentence-transformers>=2.6.0->langchain-huggingface) (3.4.2)\n",
      "Requirement already satisfied: jinja2 in c:\\users\\andre\\appdata\\local\\programs\\python\\python310\\lib\\site-packages (from torch>=1.11.0->sentence-transformers>=2.6.0->langchain-huggingface) (3.1.5)\n",
      "Requirement already satisfied: sympy==1.13.1 in c:\\users\\andre\\appdata\\local\\programs\\python\\python310\\lib\\site-packages (from torch>=1.11.0->sentence-transformers>=2.6.0->langchain-huggingface) (1.13.1)\n",
      "Requirement already satisfied: mpmath<1.4,>=1.1.0 in c:\\users\\andre\\appdata\\local\\programs\\python\\python310\\lib\\site-packages (from sympy==1.13.1->torch>=1.11.0->sentence-transformers>=2.6.0->langchain-huggingface) (1.3.0)\n",
      "Requirement already satisfied: colorama in c:\\users\\andre\\appdata\\local\\programs\\python\\python310\\lib\\site-packages (from tqdm>=4.42.1->huggingface-hub>=0.23.0->langchain-huggingface) (0.4.6)\n",
      "Requirement already satisfied: joblib>=1.2.0 in c:\\users\\andre\\appdata\\local\\programs\\python\\python310\\lib\\site-packages (from scikit-learn->sentence-transformers>=2.6.0->langchain-huggingface) (1.4.2)\n",
      "Requirement already satisfied: threadpoolctl>=3.1.0 in c:\\users\\andre\\appdata\\local\\programs\\python\\python310\\lib\\site-packages (from scikit-learn->sentence-transformers>=2.6.0->langchain-huggingface) (3.5.0)\n",
      "Requirement already satisfied: exceptiongroup>=1.0.2 in c:\\users\\andre\\appdata\\local\\programs\\python\\python310\\lib\\site-packages (from anyio->httpx<0.28.0,>=0.27.0->ollama<1,>=0.4.4->langchain-ollama) (1.2.2)\n",
      "Requirement already satisfied: MarkupSafe>=2.0 in c:\\users\\andre\\appdata\\local\\programs\\python\\python310\\lib\\site-packages (from jinja2->torch>=1.11.0->sentence-transformers>=2.6.0->langchain-huggingface) (2.1.5)\n",
      "Downloading faiss_cpu-1.9.0.post1-cp310-cp310-win_amd64.whl (13.8 MB)\n",
      "   ---------------------------------------- 0.0/13.8 MB ? eta -:--:--\n",
      "    --------------------------------------- 0.3/13.8 MB ? eta -:--:--\n",
      "   - -------------------------------------- 0.5/13.8 MB 1.9 MB/s eta 0:00:08\n",
      "   --- ------------------------------------ 1.3/13.8 MB 2.9 MB/s eta 0:00:05\n",
      "   ------ --------------------------------- 2.1/13.8 MB 3.1 MB/s eta 0:00:04\n",
      "   ------- -------------------------------- 2.6/13.8 MB 3.0 MB/s eta 0:00:04\n",
      "   --------- ------------------------------ 3.4/13.8 MB 3.0 MB/s eta 0:00:04\n",
      "   ---------- ----------------------------- 3.7/13.8 MB 2.9 MB/s eta 0:00:04\n",
      "   ------------ --------------------------- 4.5/13.8 MB 2.9 MB/s eta 0:00:04\n",
      "   --------------- ------------------------ 5.5/13.8 MB 3.1 MB/s eta 0:00:03\n",
      "   ---------------- ----------------------- 5.8/13.8 MB 3.1 MB/s eta 0:00:03\n",
      "   ------------------ --------------------- 6.6/13.8 MB 3.0 MB/s eta 0:00:03\n",
      "   -------------------- ------------------- 7.1/13.8 MB 3.0 MB/s eta 0:00:03\n",
      "   ---------------------- ----------------- 7.9/13.8 MB 3.0 MB/s eta 0:00:02\n",
      "   ------------------------ --------------- 8.4/13.8 MB 3.1 MB/s eta 0:00:02\n",
      "   -------------------------- ------------- 9.2/13.8 MB 3.1 MB/s eta 0:00:02\n",
      "   ---------------------------- ----------- 9.7/13.8 MB 3.0 MB/s eta 0:00:02\n",
      "   ----------------------------- ---------- 10.2/13.8 MB 3.0 MB/s eta 0:00:02\n",
      "   ------------------------------ --------- 10.5/13.8 MB 2.9 MB/s eta 0:00:02\n",
      "   -------------------------------- ------- 11.3/13.8 MB 2.9 MB/s eta 0:00:01\n",
      "   ---------------------------------- ----- 11.8/13.8 MB 2.9 MB/s eta 0:00:01\n",
      "   ------------------------------------- -- 12.8/13.8 MB 3.0 MB/s eta 0:00:01\n",
      "   ---------------------------------------  13.6/13.8 MB 3.1 MB/s eta 0:00:01\n",
      "   ---------------------------------------- 13.8/13.8 MB 3.0 MB/s eta 0:00:00\n",
      "Downloading pymupdf-1.25.1-cp39-abi3-win_amd64.whl (16.6 MB)\n",
      "   ---------------------------------------- 0.0/16.6 MB ? eta -:--:--\n",
      "   - -------------------------------------- 0.8/16.6 MB 4.2 MB/s eta 0:00:04\n",
      "   --- ------------------------------------ 1.6/16.6 MB 4.0 MB/s eta 0:00:04\n",
      "   ------ --------------------------------- 2.6/16.6 MB 4.1 MB/s eta 0:00:04\n",
      "   -------- ------------------------------- 3.4/16.6 MB 3.9 MB/s eta 0:00:04\n",
      "   ---------- ----------------------------- 4.2/16.6 MB 3.9 MB/s eta 0:00:04\n",
      "   ------------ --------------------------- 5.0/16.6 MB 4.0 MB/s eta 0:00:03\n",
      "   -------------- ------------------------- 6.0/16.6 MB 4.1 MB/s eta 0:00:03\n",
      "   ---------------- ----------------------- 6.8/16.6 MB 4.1 MB/s eta 0:00:03\n",
      "   ------------------ --------------------- 7.6/16.6 MB 4.1 MB/s eta 0:00:03\n",
      "   -------------------- ------------------- 8.7/16.6 MB 4.1 MB/s eta 0:00:02\n",
      "   ---------------------- ----------------- 9.2/16.6 MB 4.0 MB/s eta 0:00:02\n",
      "   ------------------------ --------------- 10.0/16.6 MB 4.0 MB/s eta 0:00:02\n",
      "   ------------------------- -------------- 10.7/16.6 MB 4.0 MB/s eta 0:00:02\n",
      "   ---------------------------- ----------- 11.8/16.6 MB 3.9 MB/s eta 0:00:02\n",
      "   ----------------------------- ---------- 12.3/16.6 MB 4.0 MB/s eta 0:00:02\n",
      "   ------------------------------- -------- 13.1/16.6 MB 3.9 MB/s eta 0:00:01\n",
      "   --------------------------------- ------ 13.9/16.6 MB 3.9 MB/s eta 0:00:01\n",
      "   ------------------------------------ --- 14.9/16.6 MB 3.9 MB/s eta 0:00:01\n",
      "   ------------------------------------- -- 15.7/16.6 MB 3.9 MB/s eta 0:00:01\n",
      "   ---------------------------------------  16.5/16.6 MB 4.0 MB/s eta 0:00:01\n",
      "   ---------------------------------------- 16.6/16.6 MB 3.9 MB/s eta 0:00:00\n",
      "Downloading tiktoken-0.8.0-cp310-cp310-win_amd64.whl (884 kB)\n",
      "   ---------------------------------------- 0.0/884.2 kB ? eta -:--:--\n",
      "   ----------------------------------- ---- 786.4/884.2 kB 4.8 MB/s eta 0:00:01\n",
      "   ---------------------------------------- 884.2/884.2 kB 4.4 MB/s eta 0:00:00\n",
      "Installing collected packages: pymupdf, faiss-cpu, tiktoken\n",
      "Successfully installed faiss-cpu-1.9.0.post1 pymupdf-1.25.1 tiktoken-0.8.0\n"
     ]
    }
   ],
   "source": [
    "! pip install -U faiss-cpu langchain-huggingface pymupdf tiktoken langchain-ollama python-dotenv"
   ]
  },
  {
   "cell_type": "code",
   "execution_count": 1,
   "id": "7610024a-de79-4fee-b8ab-03f59e8da761",
   "metadata": {},
   "outputs": [],
   "source": [
    "from langchain_ollama import OllamaEmbeddings\n",
    "from langchain_huggingface import HuggingFaceEmbeddings\n",
    "\n",
    "import faiss\n",
    "from langchain_community.vectorstores import FAISS\n",
    "from langchain_community.docstore.in_memory import InMemoryDocstore"
   ]
  },
  {
   "cell_type": "code",
   "execution_count": 5,
   "id": "91849662-8b18-496d-866e-d03aaac38987",
   "metadata": {},
   "outputs": [
    {
     "data": {
      "text/plain": [
       "False"
      ]
     },
     "execution_count": 5,
     "metadata": {},
     "output_type": "execute_result"
    }
   ],
   "source": [
    "import os\n",
    "import warnings\n",
    "from dotenv import load_dotenv\n",
    "\n",
    "os.environ['KMP_DUPLICATE_LIB_OK'] = 'True'\n",
    "warnings.filterwarnings(\"ignore\")\n",
    "\n",
    "load_dotenv()"
   ]
  },
  {
   "cell_type": "code",
   "execution_count": 6,
   "id": "b20315d6-fb94-4607-994f-ec38f55bb427",
   "metadata": {},
   "outputs": [],
   "source": [
    "#loading document\n",
    "from langchain_community.document_loaders import PyMuPDFLoader\n",
    "\n",
    "loader = PyMuPDFLoader(\"../../datasets/book/medEncyclopedia.pdf\")\n",
    "\n",
    "docs = loader.load()"
   ]
  },
  {
   "cell_type": "code",
   "execution_count": 9,
   "id": "9b48b2af-a269-4197-8533-c6eadeeb2e97",
   "metadata": {},
   "outputs": [],
   "source": [
    "#document chunking\n",
    "from langchain_text_splitters import RecursiveCharacterTextSplitter\n",
    "\n",
    "text_splitter = RecursiveCharacterTextSplitter(chunk_size=2000, chunk_overlap=300)\n",
    "chunks = text_splitter.split_documents(docs)"
   ]
  },
  {
   "cell_type": "code",
   "execution_count": 14,
   "id": "97eb8dce-8f4d-4f42-89ce-54c4069cf814",
   "metadata": {},
   "outputs": [
    {
     "data": {
      "text/plain": [
       "(0, 19)"
      ]
     },
     "execution_count": 14,
     "metadata": {},
     "output_type": "execute_result"
    }
   ],
   "source": [
    "import tiktoken\n",
    "\n",
    "encoding = tiktoken.encoding_for_model(\"gpt-4o-mini\")\n",
    "\n",
    "len(encoding.encode(docs[0].page_content)), len(encoding.encode(chunks[0].page_content))"
   ]
  },
  {
   "cell_type": "code",
   "execution_count": 16,
   "id": "b65542b4-7086-4a83-805c-c8810292b79e",
   "metadata": {},
   "outputs": [],
   "source": [
    "embeddings = OllamaEmbeddings(model='nomic-embed-text', base_url=\"http://localhost:11434\")\n",
    "single_vector = embeddings.embed_query(\"this is some text data\")"
   ]
  },
  {
   "cell_type": "code",
   "execution_count": 18,
   "id": "5a8ff9ab-5bd6-460e-bd84-6fb7568564ad",
   "metadata": {},
   "outputs": [],
   "source": [
    "index = faiss.IndexFlatL2(len(single_vector))"
   ]
  },
  {
   "cell_type": "code",
   "execution_count": 19,
   "id": "4d9003bc-fdfe-4604-ac2f-576b7a84319c",
   "metadata": {},
   "outputs": [],
   "source": [
    "# #creating vector store\n",
    "# vector_store = FAISS(\n",
    "#     embedding_function=embeddings,\n",
    "#     index=index,\n",
    "#     docstore=InMemoryDocstore(),\n",
    "#     index_to_docstore_id={}\n",
    "# )"
   ]
  },
  {
   "cell_type": "code",
   "execution_count": 3,
   "id": "b31ada21-7047-483a-989b-49f7ae1d7c47",
   "metadata": {},
   "outputs": [
    {
     "name": "stderr",
     "output_type": "stream",
     "text": [
      "C:\\Users\\andre\\AppData\\Local\\Programs\\Python\\Python310\\lib\\site-packages\\tqdm\\auto.py:21: TqdmWarning: IProgress not found. Please update jupyter and ipywidgets. See https://ipywidgets.readthedocs.io/en/stable/user_install.html\n",
      "  from .autonotebook import tqdm as notebook_tqdm\n",
      "C:\\Users\\andre\\AppData\\Local\\Programs\\Python\\Python310\\lib\\site-packages\\huggingface_hub\\file_download.py:140: UserWarning: `huggingface_hub` cache-system uses symlinks by default to efficiently store duplicated files but your machine does not support them in C:\\Users\\andre\\.cache\\huggingface\\hub\\models--sentence-transformers--all-mpnet-base-v2. Caching files will still work but in a degraded version that might require more space on your disk. This warning can be disabled by setting the `HF_HUB_DISABLE_SYMLINKS_WARNING` environment variable. For more details, see https://huggingface.co/docs/huggingface_hub/how-to-cache#limitations.\n",
      "To support symlinks on Windows, you either need to activate Developer Mode or to run Python as an administrator. In order to activate developer mode, see this article: https://docs.microsoft.com/en-us/windows/apps/get-started/enable-your-device-for-development\n",
      "  warnings.warn(message)\n"
     ]
    }
   ],
   "source": [
    "#ids = vector_store.add_documents(documents=chunks)\n",
    "embeddings = HuggingFaceEmbeddings(model_name=\"sentence-transformers/all-mpnet-base-v2\")"
   ]
  },
  {
   "cell_type": "code",
   "execution_count": 5,
   "id": "ee0b2b23-c4c1-454a-84fd-60ec504f9db2",
   "metadata": {},
   "outputs": [
    {
     "data": {
      "text/plain": [
       "12318"
      ]
     },
     "execution_count": 5,
     "metadata": {},
     "output_type": "execute_result"
    }
   ],
   "source": [
    "vector_store = FAISS.load_local(\"../../med_db\", embeddings=embeddings, allow_dangerous_deserialization=True)\n",
    "len(vector_store.index_to_docstore_id)"
   ]
  },
  {
   "cell_type": "code",
   "execution_count": null,
   "id": "fc67c4bf-b5b3-4206-b6c5-cfc7d1ee287d",
   "metadata": {},
   "outputs": [],
   "source": [
    "question = \"what is effusion?\"\n",
    "docs = vector_store.search(query=question, search_type='similarity')\n",
    "\n",
    "for doc in docs:\n",
    "    print(doc.page_content)\n",
    "    print(\"\\n\\n\")"
   ]
  },
  {
   "cell_type": "code",
   "execution_count": 9,
   "id": "29d91394-53d7-4477-bd4a-9c04ea5c8311",
   "metadata": {},
   "outputs": [],
   "source": [
    "retriever = vector_store.as_retriever(search_type=\"mmr\", search_kwargs = {'k': 2, \n",
    "                                                                          'fetch_k': 100,\n",
    "                                                                          'lambda_mult': 1})"
   ]
  },
  {
   "cell_type": "code",
   "execution_count": null,
   "id": "acc5637b-f83f-438e-9c9d-02ebdf304f5d",
   "metadata": {},
   "outputs": [],
   "source": [
    "docs = retriever.invoke(question)\n",
    "for doc in docs:\n",
    "    print(doc.page_content)\n",
    "    print(\"\\n\\n\")"
   ]
  },
  {
   "cell_type": "code",
   "execution_count": 11,
   "id": "c8cbc5c3-bad4-4157-a395-05a5307d97e4",
   "metadata": {},
   "outputs": [],
   "source": [
    "from langchain import hub\n",
    "from langchain_core.output_parsers import StrOutputParser\n",
    "from langchain_core.runnables import RunnablePassthrough\n",
    "from langchain_core.prompts import ChatPromptTemplate\n",
    "\n",
    "from langchain_ollama import ChatOllama"
   ]
  },
  {
   "cell_type": "code",
   "execution_count": 32,
   "id": "4e4ad86e-0370-46fb-8ac4-7036a7654bd7",
   "metadata": {},
   "outputs": [],
   "source": [
    "model = ChatOllama(model=\"llama3.2\",num_predict=100 ,base_url=\"http://localhost:11434\")"
   ]
  },
  {
   "cell_type": "code",
   "execution_count": 33,
   "id": "de1a489e-87fc-4fb5-b991-7fba4085135d",
   "metadata": {},
   "outputs": [],
   "source": [
    "prompt = \"\"\"You are a Medical Chatbot answering questions strictly related to chest diseases. \n",
    "Do not provide any consultation. Give answers only for medical queries. Answer the question based only on the following context:\n",
    "{context}\n",
    "Question: {question}\n",
    "\"\"\"\n",
    "prompt = ChatPromptTemplate.from_template(prompt)"
   ]
  },
  {
   "cell_type": "code",
   "execution_count": 34,
   "id": "7cdca916-5dbd-4b9d-ac8b-63ba05358b39",
   "metadata": {},
   "outputs": [],
   "source": [
    "def format_docs(docs):\n",
    "    return \"\\n\\n\".join([doc.page_content for doc in docs])"
   ]
  },
  {
   "cell_type": "code",
   "execution_count": 35,
   "id": "8b5890b2-a515-4193-92e7-59c56aac64ab",
   "metadata": {},
   "outputs": [],
   "source": [
    "rag_chain = (\n",
    "    {\"context\": retriever|format_docs, \"question\": RunnablePassthrough()}\n",
    "    | prompt\n",
    "    | model\n",
    "    | StrOutputParser()\n",
    ")"
   ]
  },
  {
   "cell_type": "code",
   "execution_count": 37,
   "id": "4ef1b380-c104-4f7c-8545-52273e371152",
   "metadata": {},
   "outputs": [
    {
     "name": "stdout",
     "output_type": "stream",
     "text": [
      "I am a Medical Chatbot specializing in answering questions related to chest diseases. I provide information and responses based on my knowledge cutoff, but please note that I'm not a substitute for professional medical advice or consultation. My purpose is to assist with general inquiries about chest diseases, symptoms, causes, diagnosis, treatment options, and more.\n"
     ]
    }
   ],
   "source": [
    "question = \"who are you?\"\n",
    "\n",
    "output = rag_chain.invoke(question)\n",
    "print(output)"
   ]
  },
  {
   "cell_type": "code",
   "execution_count": null,
   "id": "b87ffb90-99c1-4cb6-b85f-a4138ded9720",
   "metadata": {},
   "outputs": [],
   "source": []
  }
 ],
 "metadata": {
  "kernelspec": {
   "display_name": "Python 3 (ipykernel)",
   "language": "python",
   "name": "python3"
  },
  "language_info": {
   "codemirror_mode": {
    "name": "ipython",
    "version": 3
   },
   "file_extension": ".py",
   "mimetype": "text/x-python",
   "name": "python",
   "nbconvert_exporter": "python",
   "pygments_lexer": "ipython3",
   "version": "3.10.0"
  }
 },
 "nbformat": 4,
 "nbformat_minor": 5
}
